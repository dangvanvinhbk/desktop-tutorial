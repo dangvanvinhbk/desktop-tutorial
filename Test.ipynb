{
  "nbformat": 4,
  "nbformat_minor": 0,
  "metadata": {
    "colab": {
      "provenance": [],
      "include_colab_link": true
    },
    "kernelspec": {
      "name": "python3",
      "display_name": "Python 3"
    },
    "language_info": {
      "name": "python"
    }
  },
  "cells": [
    {
      "cell_type": "markdown",
      "metadata": {
        "id": "view-in-github",
        "colab_type": "text"
      },
      "source": [
        "<a href=\"https://colab.research.google.com/github/dangvanvinhbk/desktop-tutorial/blob/main/Test.ipynb\" target=\"_parent\"><img src=\"https://colab.research.google.com/assets/colab-badge.svg\" alt=\"Open In Colab\"/></a>"
      ]
    },
    {
      "cell_type": "code",
      "execution_count": 5,
      "metadata": {
        "colab": {
          "base_uri": "https://localhost:8080/"
        },
        "id": "YTnD070lW4NS",
        "outputId": "5feccf9a-e681-4535-eafc-09aa91e29831"
      },
      "outputs": [
        {
          "output_type": "stream",
          "name": "stdout",
          "text": [
            "Cloning into 'desktop-tutorial'...\n",
            "remote: Enumerating objects: 9, done.\u001b[K\n",
            "remote: Counting objects: 100% (9/9), done.\u001b[K\n",
            "remote: Compressing objects: 100% (8/8), done.\u001b[K\n",
            "remote: Total 9 (delta 0), reused 3 (delta 0), pack-reused 0 (from 0)\u001b[K\n",
            "Receiving objects: 100% (9/9), done.\n",
            "/content/desktop-tutorial\n",
            "\n",
            "Kết quả nghiệm: 1.3857\n",
            "\n",
            " Số nguyên dương nhỏ nhất: 10\n"
          ]
        }
      ],
      "source": [
        "#import FunctionInPython\n",
        "# Clone repo từ GitHub về Colab\n",
        "!git clone https://github.com/dangvanvinhbk/desktop-tutorial.git\n",
        "%cd desktop-tutorial\n",
        "\n",
        "import math\n",
        "import bisectionMethodError as bis\n",
        "f = lambda x: 1/(1+math.exp(-x))-0.8\n",
        "n_min, x_min = bis.bisection_n_and_x(f, 1, 3, 0.001)\n",
        "print(f\"\\nKết quả nghiệm: {round(x_min, 4)}\")\n",
        "print(f\"\\n Số nguyên dương nhỏ nhất: {n_min}\")"
      ]
    }
  ]
}